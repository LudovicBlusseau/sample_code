{
 "cells": [
  {
   "cell_type": "markdown",
   "metadata": {},
   "source": [
    "<b>Declare libraries</b>"
   ]
  },
  {
   "cell_type": "code",
   "execution_count": null,
   "metadata": {
    "collapsed": true
   },
   "outputs": [],
   "source": [
    "import dataiku\n",
    "from dataiku.scenario import Scenario"
   ]
  },
  {
   "cell_type": "markdown",
   "metadata": {},
   "source": [
    "<b>Get the current project</b>"
   ]
  },
  {
   "cell_type": "code",
   "execution_count": null,
   "metadata": {
    "collapsed": true
   },
   "outputs": [],
   "source": [
    "client = dataiku.api_client()\n",
    "\n",
    "# Get the current project\n",
    "proj = client.get_project(dataiku.default_project_key())"
   ]
  },
  {
   "cell_type": "markdown",
   "metadata": {},
   "source": [
    "<b>Get Specified metric</b>"
   ]
  },
  {
   "cell_type": "code",
   "execution_count": null,
   "metadata": {
    "collapsed": true
   },
   "outputs": [],
   "source": [
    "# Context\n",
    "ds = \"Velib_releves_extract_partitioned\"\n",
    "metric = 'records:COUNT_RECORDS'\n",
    "\n",
    "metrics = proj.get_dataset(ds).get_last_metric_values(partition='2015-12-31')\n",
    "record_count  = metrics.get_metric_by_id(metric)['lastValues'][0]['value']\n",
    "\n",
    "\n",
    "print( '-------------')\n",
    "print(record_count)\n",
    "print( '-------------')"
   ]
  }
 ],
 "metadata": {
  "kernelspec": {
   "display_name": "Python 3",
   "language": "python",
   "name": "python3"
  },
  "language_info": {
   "codemirror_mode": {
    "name": "ipython",
    "version": 3
   },
   "file_extension": ".py",
   "mimetype": "text/x-python",
   "name": "python",
   "nbconvert_exporter": "python",
   "pygments_lexer": "ipython3",
   "version": "3.6.3"
  }
 },
 "nbformat": 4,
 "nbformat_minor": 1
}
