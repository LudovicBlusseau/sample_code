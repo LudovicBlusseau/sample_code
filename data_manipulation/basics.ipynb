{
 "cells": [
  {
   "cell_type": "markdown",
   "metadata": {},
   "source": [
    "# Basic concepts of Python"
   ]
  },
  {
   "cell_type": "code",
   "execution_count": 1,
   "metadata": {
    "collapsed": true
   },
   "outputs": [],
   "source": [
    "import pandas as pd \n",
    "import numpy as np"
   ]
  },
  {
   "cell_type": "markdown",
   "metadata": {},
   "source": [
    "Some Definitions and objects  \n",
    "list --> [1,2,3,4]  \n",
    "tuple --> (1,2,3,4) \n",
    "\n",
    "difference between list and tuple : tuple are immutable, we can't change its values after it was created . \n",
    "\n",
    "dict --> {'Ohio' : 35000, 'Texas' : 71000, 'Oregon' : 16000} \n",
    "\n",
    "array  \n",
    "dataframe  \n",
    "vector ?  \n"
   ]
  },
  {
   "cell_type": "markdown",
   "metadata": {},
   "source": [
    "<b>Manipulating variables</b>"
   ]
  },
  {
   "cell_type": "markdown",
   "metadata": {},
   "source": [
    "Get the type of a variable"
   ]
  },
  {
   "cell_type": "code",
   "execution_count": 3,
   "metadata": {
    "collapsed": false
   },
   "outputs": [
    {
     "data": {
      "text/plain": [
       "int"
      ]
     },
     "execution_count": 3,
     "metadata": {},
     "output_type": "execute_result"
    }
   ],
   "source": [
    "a = 2\n",
    "type(a)"
   ]
  },
  {
   "cell_type": "code",
   "execution_count": 4,
   "metadata": {
    "collapsed": false
   },
   "outputs": [
    {
     "name": "stdout",
     "output_type": "stream",
     "text": [
      "Variable   Type    Data/Info\n",
      "----------------------------\n",
      "a          int     2\n"
     ]
    }
   ],
   "source": [
    "whos"
   ]
  },
  {
   "cell_type": "code",
   "execution_count": 10,
   "metadata": {
    "collapsed": false
   },
   "outputs": [
    {
     "name": "stdout",
     "output_type": "stream",
     "text": [
      "a=A\n",
      "b=B\n"
     ]
    }
   ],
   "source": [
    "a,b = ['A','B']\n",
    "print('a=' + a)\n",
    "print('b=' + b)"
   ]
  },
  {
   "cell_type": "markdown",
   "metadata": {},
   "source": [
    "<b>Manipulate Lists</b>"
   ]
  },
  {
   "cell_type": "code",
   "execution_count": 10,
   "metadata": {
    "collapsed": false
   },
   "outputs": [
    {
     "name": "stdout",
     "output_type": "stream",
     "text": [
      "item0 = 1\n",
      "lenght = 4\n"
     ]
    }
   ],
   "source": [
    "mylist = [1,2,3,4]\n",
    "print('item0 = ' + str(mylist[0]))\n",
    "print('lenght = ' + str(len(mylist)))"
   ]
  },
  {
   "cell_type": "code",
   "execution_count": 15,
   "metadata": {
    "collapsed": false
   },
   "outputs": [
    {
     "name": "stdout",
     "output_type": "stream",
     "text": [
      "List1 = [1, 20, 3, 4]\n",
      "List2 = [1, 20, 3, 4, 5, 6]\n",
      "List3 = [[1, 2, 3], [4, 5, 6]]\n",
      "Item.0.12\n"
     ]
    }
   ],
   "source": [
    "mylist[1] = 20\n",
    "print('List1 = ' + str(mylist))\n",
    "\n",
    "mylist2 = mylist + [5,6]\n",
    "print('List2 = ' + str(mylist2))\n",
    "\n",
    "mylist3 = [[1,2,3],[4,5,6]]\n",
    "print('List3 = ' + str(mylist3))\n",
    "print('Item.0.1' + str(mylist3[0][1]))"
   ]
  },
  {
   "cell_type": "markdown",
   "metadata": {},
   "source": [
    "<b>Manipulate Dicts</b>"
   ]
  },
  {
   "cell_type": "code",
   "execution_count": 17,
   "metadata": {
    "collapsed": false
   },
   "outputs": [
    {
     "name": "stdout",
     "output_type": "stream",
     "text": [
      "Dictionnaire = {'Ohio': 35000, 'Texas': 71000, 'Oregon': 16000}\n",
      "Value Texas = 71000\n"
     ]
    }
   ],
   "source": [
    "MyDict = {'Ohio' : 35000, 'Texas' : 71000, 'Oregon' : 16000}\n",
    "print('Dictionnaire = ' + str(MyDict))\n",
    "print('Value Texas = ' + str(MyDict.get('Texas')))"
   ]
  },
  {
   "cell_type": "markdown",
   "metadata": {},
   "source": [
    "Ajout d'une entrée dans le Dictionnaire'"
   ]
  },
  {
   "cell_type": "code",
   "execution_count": 10,
   "metadata": {
    "collapsed": false
   },
   "outputs": [
    {
     "name": "stdout",
     "output_type": "stream",
     "text": [
      "Dictionnaire = {'Ohio': 35000, 'Texas': 71000, 'Oregon': 16000, 'Utah': 5000}\n"
     ]
    }
   ],
   "source": [
    "MyDict[\"Utah\"] = 5000\n",
    "print('Dictionnaire = ' + str(MyDict))"
   ]
  },
  {
   "cell_type": "markdown",
   "metadata": {},
   "source": [
    "Suppression d'une entrée dans le dictionnaire"
   ]
  },
  {
   "cell_type": "code",
   "execution_count": 11,
   "metadata": {
    "collapsed": false
   },
   "outputs": [
    {
     "name": "stdout",
     "output_type": "stream",
     "text": [
      "Dictionnaire = {'Ohio': 35000, 'Texas': 71000, 'Oregon': 16000}\n"
     ]
    }
   ],
   "source": [
    "del MyDict[\"Utah\"]\n",
    "print('Dictionnaire = ' + str(MyDict))"
   ]
  }
 ],
 "metadata": {
  "associatedRecipe": "compute_transfo_py",
  "creator": "lblusseau",
  "kernelspec": {
   "display_name": "Python 3",
   "language": "python",
   "name": "python3"
  },
  "language_info": {
   "codemirror_mode": {
    "name": "ipython",
    "version": 3
   },
   "file_extension": ".py",
   "mimetype": "text/x-python",
   "name": "python",
   "nbconvert_exporter": "python",
   "pygments_lexer": "ipython3",
   "version": "3.6.3"
  },
  "tags": [
   "recipe-editor"
  ]
 },
 "nbformat": 4,
 "nbformat_minor": 1
}
